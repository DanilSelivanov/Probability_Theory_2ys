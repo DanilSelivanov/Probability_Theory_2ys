{
 "cells": [
  {
   "cell_type": "markdown",
   "metadata": {},
   "source": [
    "# Домашня робота №2"
   ]
  },
  {
   "cell_type": "markdown",
   "metadata": {},
   "source": [
    "## 1 Пароль\n",
    "Напишіть програму (функцію) для генерування випадкового пароля з такими обмеженнями:\n",
    "- пароль складається з рівно $10$ символів\n",
    "- пароль містить хоча б одну маленьку латинську літеру [a-z]\n",
    "- пароль містить хоча б одну велику латинську літеру [A-Z]\n",
    "- пароль містить хоча б одну цифру [0-9]\n",
    "- пароль містить хоча б один спеціальний символ [~!@#$%^&*()-_+=\\/{}[].,?<>:;]"
   ]
  },
  {
   "cell_type": "code",
   "execution_count": 6,
   "metadata": {},
   "outputs": [
    {
     "name": "stdout",
     "output_type": "stream",
     "text": [
      "oU7RjILf7_\n"
     ]
    }
   ],
   "source": [
    "import numpy as np\n",
    "\n",
    "lower = list('abcdefghijklmnopqrstuvwxyz')\n",
    "upper = list('ABCDEFGHIJKLMNOPQRSTUVWXYZ')\n",
    "numbers = list('0123456789')\n",
    "ss = list('~!@#$%^&*()-_+=\\/{}[].,?<>:;')\n",
    "password = [np.random.choice(lower), np.random.choice(upper), np.random.choice(numbers), np.random.choice(ss), *list(np.random.choice(lower + upper + numbers + ss, 6))]\n",
    "np.random.shuffle(password)\n",
    "password = ''.join(password)\n",
    "print(password)\n",
    "\n"
   ]
  },
  {
   "cell_type": "markdown",
   "metadata": {},
   "source": [
    "## 2 Герби в ряд\n",
    "Реалізуйте функцію для обчислення емпіричної та теоретичної імовірностей випадіння $k$ гербів (HEADS) підряд у серії з $n$ підкидань чесної монетки. Підрахуйте відповідні ймовірності для таких параметрів:\n",
    "- $k = 2, n = 10, 50, 100, 500, 1000, 5000, 10000$\n",
    "- $k = 3, n = 10, 50, 100, 500, 1000, 5000, 10000$\n",
    "\n",
    "**Зауваження.** Нехай $k = 2, n = 10$ та маємо таку послідовність результатів підкидання монети: $\\{ H, T, H, H, H, H, T, T, H, T \\}$. Тоді матимемо $3$ випадки випадіння двох гербів підряд та емпіричну ймовірність такої події $1/3$."
   ]
  },
  {
   "cell_type": "code",
   "execution_count": 10,
   "metadata": {},
   "outputs": [
    {
     "name": "stdout",
     "output_type": "stream",
     "text": [
      "\n",
      "k = 2, n = 10, \n",
      "Empirical = 0.6, number in a row = 3\n",
      "k = 2, n = 50, \n",
      "Empirical = 0.16, number in a row = 10\n",
      "k = 2, n = 100, \n",
      "Empirical = 0.26, number in a row = 20\n",
      "k = 2, n = 500, \n",
      "Empirical = 0.266, number in a row = 121\n",
      "k = 2, n = 1000, \n",
      "Empirical = 0.238, number in a row = 242\n",
      "k = 2, n = 5000, \n",
      "Empirical = 0.2578, number in a row = 1264\n",
      "k = 2, n = 10000, \n",
      "Empirical = 0.2577, number in a row = 2465\n",
      "\n",
      "\n",
      "k = 3, n = 10, \n",
      "empirical = 0.0, number in a row = 3\n",
      "k = 3, n = 50, \n",
      "empirical = 0.14, number in a row = 7\n",
      "k = 3, n = 100, \n",
      "empirical = 0.17, number in a row = 8\n",
      "k = 3, n = 500, \n",
      "empirical = 0.176, number in a row = 53\n",
      "k = 3, n = 1000, \n",
      "empirical = 0.132, number in a row = 131\n",
      "k = 3, n = 5000, \n",
      "empirical = 0.1264, number in a row = 587\n",
      "k = 3, n = 10000, \n",
      "empirical = 0.1197, number in a row = 1203\n"
     ]
    }
   ],
   "source": [
    "from numpy.random import choice\n",
    "\n",
    "def empiric(n, k):\n",
    "    res = choice(['H', 'T'], n)\n",
    "    a = 0\n",
    "    for i in range(n-k+1):\n",
    "        tmp = res[i: i+k]\n",
    "        success = True\n",
    "        for char in tmp:\n",
    "            if char != 'H':\n",
    "                success = False\n",
    "                break\n",
    "        if success:\n",
    "            a += 1\n",
    "    return a / n, a\n",
    "\n",
    "\n",
    "n = (10, 50, 100, 500, 1000, 5000, 10000)\n",
    "print()\n",
    "for i in n:\n",
    "    print('k = {}, n = {}, \\nEmpirical = {}, number in a row = {}'.format(2, i, empiric(i, 2)[0], empiric(i, 2)[1]))\n",
    "print('\\n')\n",
    "for i in n:\n",
    "    print('k = {}, n = {}, \\nempirical = {}, number in a row = {}'.format(3, i, empiric(i, 3)[0], empiric(i, 3)[1]))"
   ]
  },
  {
   "cell_type": "markdown",
   "metadata": {},
   "source": [
    "## 3 Найбільше число\n",
    "Реалізуйте функцію підрахунку точної (теоретичної) імовірності того, що максимальне число після $n$ кидків звичайного грального кубика дорівнює $x\\_max$, для таких параметрів:\n",
    "- $n = 3, x\\_max = 6$\n",
    "- $n = 2, x\\_max = 3$\n",
    "- $n = 3, x\\_max = 5$\n",
    "\n",
    "Тобто, якщо $X_i, i = 1, \\ldots, n$, - число на $i$-му кидку кубика, а $X = \\max\\limits_{1 \\leq i \\leq n} X_i$, то потрібно знайти ймовірність $\\textbf{P} \\left( X = x\\_max \\right)$.\n",
    "\n",
    "Підрахуйте також емпіричні ймовірності відповідних подій у випадку $10000$ симуляцій.\n",
    "\n",
    "**Зауваження.** Якщо введені параметри не мають сенсу, то повертати $0$.\n",
    "Тобто, якщо вводиться $x\\_max < 1$ або $x\\_max > 6$."
   ]
  },
  {
   "cell_type": "code",
   "execution_count": 13,
   "metadata": {},
   "outputs": [
    {
     "name": "stdout",
     "output_type": "stream",
     "text": [
      "For n = 3, x_max = 6:\n",
      "        Емпірична ймовірність 0.4233\n",
      "        Теоретична ймовірність 0.4212962962962963\n",
      "\n",
      "For n = 2, x_max = 3:\n",
      "        Емпірична ймовірність 0.1444\n",
      "        Теоретична ймовірність 0.1388888888888889\n",
      "\n",
      "For n = 3, x_max = 5:\n",
      "        Емпірична ймовірність 0.285\n",
      "        Теоретична ймовірність 0.28240740740740744\n",
      "\n"
     ]
    }
   ],
   "source": [
    "\n",
    "import numpy as np\n",
    "\n",
    "\n",
    "def teor(n, x_max):\n",
    "    if not(1 <= x_max <= 6):\n",
    "        return 0\n",
    "    return (x_max)**n/(6**n) - (x_max - 1)**n/(6**n)\n",
    "\n",
    "\n",
    "def empiric(n, x_max):\n",
    "    if not(1 <= x_max <= 6):\n",
    "        return 0\n",
    "    tests = 10000\n",
    "    K = [1, 2, 3, 4, 5, 6]\n",
    "    counter = 0\n",
    "    for i in range(tests):\n",
    "        tosses = np.random.choice(K, n)\n",
    "        if max(tosses) == x_max:\n",
    "            counter += 1\n",
    "    return counter/float(tests)\n",
    "\n",
    "\n",
    "def test(n, x_max):\n",
    "    print(\"For n = {}, x_max = {}:\\n \\\n",
    "       Емпірична ймовірність {}\\n \\\n",
    "       Теоретична ймовірність {}\\n\".format(n, x_max, empiric(n, x_max), teor(n, x_max)))\n",
    "test(3, 6)\n",
    "test(2, 3)\n",
    "test(3, 5)"
   ]
  },
  {
   "cell_type": "markdown",
   "metadata": {},
   "source": [
    "## 4 Сума чисел\n",
    "Реалізуйте функцію підрахунку точної (теоретичної) імовірності того, що сума чисел після $n$ кидків звичайного грального кубика дорівнює $s$, для таких параметрів:\n",
    "- $n = 3, s = 13$\n",
    "- $n = 2, s = 5$\n",
    "- $n = 3, s = 7$\n",
    "\n",
    "Тобто, якщо $X_i, i = 1, \\ldots, n$, - число на $i$-му кидку кубика, а $X = \\sum\\limits_{i = 1}^{n} X_i$, то потрібно знайти ймовірність $\\textbf{P} \\left( X = s \\right)$.\n",
    "\n",
    "Підрахуйте також емпіричні ймовірності відповідних подій у випадку $10000$ симуляцій.\n",
    "\n",
    "**Зауваження.** Якщо введені параметри не мають сенсу, то повертати $0$.\n",
    "Наприклад, якщо при $n = 3$ вводиться $s < 3$ або $s > 18$."
   ]
  },
  {
   "cell_type": "code",
   "execution_count": 15,
   "metadata": {},
   "outputs": [
    {
     "name": "stdout",
     "output_type": "stream",
     "text": [
      "n = 3, s = 13, probability = 0.0993\n",
      "n = 2, s = 5, probability = 0.1101\n",
      "n = 3, s = 7, probability = 0.0692\n"
     ]
    }
   ],
   "source": [
    "def check(n, s, tests=10000):\n",
    "    if n > s > n*6:\n",
    "        return 0\n",
    "    counter = 0\n",
    "    for i in range(tests):\n",
    "        if sum(list(choice(range(1,7), n))) == s:\n",
    "            counter += 1\n",
    "    return counter/tests\n",
    "\n",
    "ns = [(3,13), (2,5), (3,7)]\n",
    "for i in ns:\n",
    "    print(\"n = {}, s = {}, probability = {}\".format(i[0], i[1], check(i[0], i[1])))\n"
   ]
  },
  {
   "cell_type": "code",
   "execution_count": null,
   "metadata": {},
   "outputs": [],
   "source": []
  }
 ],
 "metadata": {
  "kernelspec": {
   "display_name": "Python 3",
   "language": "python",
   "name": "python3"
  },
  "language_info": {
   "codemirror_mode": {
    "name": "ipython",
    "version": 3
   },
   "file_extension": ".py",
   "mimetype": "text/x-python",
   "name": "python",
   "nbconvert_exporter": "python",
   "pygments_lexer": "ipython3",
   "version": "3.7.1"
  }
 },
 "nbformat": 4,
 "nbformat_minor": 1
}
